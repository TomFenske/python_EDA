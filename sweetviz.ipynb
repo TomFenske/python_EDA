{
 "cells": [
  {
   "cell_type": "markdown",
   "metadata": {},
   "source": [
    "# sweetviz"
   ]
  },
  {
   "cell_type": "markdown",
   "metadata": {},
   "source": [
    "This is an example notebook to show the functionality of sweetviz (EDA tool)"
   ]
  },
  {
   "cell_type": "code",
   "execution_count": 5,
   "metadata": {},
   "outputs": [],
   "source": [
    "#import libraries\n",
    "import pandas as pd\n",
    "import numpy as np\n",
    "#!pip install sweetviz\n",
    "import sweetviz as sv"
   ]
  },
  {
   "cell_type": "code",
   "execution_count": 7,
   "metadata": {},
   "outputs": [
    {
     "data": {
      "text/html": [
       "<div>\n",
       "<style scoped>\n",
       "    .dataframe tbody tr th:only-of-type {\n",
       "        vertical-align: middle;\n",
       "    }\n",
       "\n",
       "    .dataframe tbody tr th {\n",
       "        vertical-align: top;\n",
       "    }\n",
       "\n",
       "    .dataframe thead th {\n",
       "        text-align: right;\n",
       "    }\n",
       "</style>\n",
       "<table border=\"1\" class=\"dataframe\">\n",
       "  <thead>\n",
       "    <tr style=\"text-align: right;\">\n",
       "      <th></th>\n",
       "      <th>reported crimes per 1 mn residents</th>\n",
       "      <th>reported violent crimes per 100k residents</th>\n",
       "      <th>annual police funding in $/resident</th>\n",
       "      <th>% of people 25years up+with 4 yrs. of high school</th>\n",
       "      <th>% of 16 to 19 year-olds not in highschool and not highschool graduates</th>\n",
       "      <th>% of 18 to 24 year-olds in college</th>\n",
       "      <th>% of people 24years up with at least 4 years of college</th>\n",
       "    </tr>\n",
       "  </thead>\n",
       "  <tbody>\n",
       "    <tr>\n",
       "      <th>0</th>\n",
       "      <td>478</td>\n",
       "      <td>184</td>\n",
       "      <td>40</td>\n",
       "      <td>74</td>\n",
       "      <td>11</td>\n",
       "      <td>31</td>\n",
       "      <td>20</td>\n",
       "    </tr>\n",
       "    <tr>\n",
       "      <th>1</th>\n",
       "      <td>494</td>\n",
       "      <td>213</td>\n",
       "      <td>32</td>\n",
       "      <td>72</td>\n",
       "      <td>11</td>\n",
       "      <td>43</td>\n",
       "      <td>18</td>\n",
       "    </tr>\n",
       "    <tr>\n",
       "      <th>2</th>\n",
       "      <td>643</td>\n",
       "      <td>347</td>\n",
       "      <td>57</td>\n",
       "      <td>70</td>\n",
       "      <td>18</td>\n",
       "      <td>16</td>\n",
       "      <td>16</td>\n",
       "    </tr>\n",
       "    <tr>\n",
       "      <th>3</th>\n",
       "      <td>341</td>\n",
       "      <td>565</td>\n",
       "      <td>31</td>\n",
       "      <td>71</td>\n",
       "      <td>11</td>\n",
       "      <td>25</td>\n",
       "      <td>19</td>\n",
       "    </tr>\n",
       "    <tr>\n",
       "      <th>4</th>\n",
       "      <td>773</td>\n",
       "      <td>327</td>\n",
       "      <td>67</td>\n",
       "      <td>72</td>\n",
       "      <td>9</td>\n",
       "      <td>29</td>\n",
       "      <td>24</td>\n",
       "    </tr>\n",
       "  </tbody>\n",
       "</table>\n",
       "</div>"
      ],
      "text/plain": [
       "   reported crimes per 1 mn residents  \\\n",
       "0                                 478   \n",
       "1                                 494   \n",
       "2                                 643   \n",
       "3                                 341   \n",
       "4                                 773   \n",
       "\n",
       "   reported violent crimes per 100k residents  \\\n",
       "0                                         184   \n",
       "1                                         213   \n",
       "2                                         347   \n",
       "3                                         565   \n",
       "4                                         327   \n",
       "\n",
       "   annual police funding in $/resident  \\\n",
       "0                                   40   \n",
       "1                                   32   \n",
       "2                                   57   \n",
       "3                                   31   \n",
       "4                                   67   \n",
       "\n",
       "   % of people 25years up+with 4 yrs. of high school  \\\n",
       "0                                                 74   \n",
       "1                                                 72   \n",
       "2                                                 70   \n",
       "3                                                 71   \n",
       "4                                                 72   \n",
       "\n",
       "   % of 16 to 19 year-olds not in highschool and not highschool graduates  \\\n",
       "0                                                 11                        \n",
       "1                                                 11                        \n",
       "2                                                 18                        \n",
       "3                                                 11                        \n",
       "4                                                  9                        \n",
       "\n",
       "   % of 18 to 24 year-olds in college  \\\n",
       "0                                  31   \n",
       "1                                  43   \n",
       "2                                  16   \n",
       "3                                  25   \n",
       "4                                  29   \n",
       "\n",
       "   % of people 24years up with at least 4 years of college  \n",
       "0                                                 20        \n",
       "1                                                 18        \n",
       "2                                                 16        \n",
       "3                                                 19        \n",
       "4                                                 24        "
      ]
     },
     "execution_count": 7,
     "metadata": {},
     "output_type": "execute_result"
    }
   ],
   "source": [
    "file='crime.xlsx'\n",
    "df=pd.read_excel(file)\n",
    "df.head()"
   ]
  },
  {
   "cell_type": "code",
   "execution_count": 8,
   "metadata": {},
   "outputs": [
    {
     "name": "stderr",
     "output_type": "stream",
     "text": [
      ":FEATURES DONE:                    |█████████████████████| [100%]   00:02  -> (00:00 left)\n",
      ":PAIRWISE DONE:                    |█████████████████████| [100%]   00:00  -> (00:00 left)\n"
     ]
    },
    {
     "name": "stdout",
     "output_type": "stream",
     "text": [
      "Creating Associations graph... DONE!\n",
      "Report SWEETVIZ_REPORT.html was generated! NOTEBOOK/COLAB USERS: no browser will pop up, the report is saved in your notebook/colab files.\n"
     ]
    }
   ],
   "source": [
    "#creatin sweetviz report\n",
    "report = sv.analyze(df)\n",
    "report.show_html() # Default arguments will generate to \"SWEETVIZ_REPORT.html\""
   ]
  },
  {
   "cell_type": "code",
   "execution_count": null,
   "metadata": {},
   "outputs": [],
   "source": []
  }
 ],
 "metadata": {
  "kernelspec": {
   "display_name": "Python 3",
   "language": "python",
   "name": "python3"
  },
  "language_info": {
   "codemirror_mode": {
    "name": "ipython",
    "version": 3
   },
   "file_extension": ".py",
   "mimetype": "text/x-python",
   "name": "python",
   "nbconvert_exporter": "python",
   "pygments_lexer": "ipython3",
   "version": "3.7.6"
  }
 },
 "nbformat": 4,
 "nbformat_minor": 4
}
