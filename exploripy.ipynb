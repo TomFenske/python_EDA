{
 "cells": [
  {
   "cell_type": "markdown",
   "metadata": {},
   "source": [
    "# exploriPy"
   ]
  },
  {
   "cell_type": "markdown",
   "metadata": {},
   "source": [
    "This is an example notebook to show the functionality of exploriPy (EDA tool)"
   ]
  },
  {
   "cell_type": "code",
   "execution_count": 1,
   "metadata": {},
   "outputs": [
    {
     "name": "stdout",
     "output_type": "stream",
     "text": [
      "Requirement already satisfied: ExploriPy in c:\\users\\tomfe\\anaconda3\\lib\\site-packages (1.1.2)\n",
      "Requirement already satisfied: sklearn in c:\\users\\tomfe\\anaconda3\\lib\\site-packages (from ExploriPy) (0.0)\n",
      "Requirement already satisfied: scipy in c:\\users\\tomfe\\anaconda3\\lib\\site-packages (from ExploriPy) (1.4.1)\n",
      "Requirement already satisfied: statsmodels in c:\\users\\tomfe\\anaconda3\\lib\\site-packages (from ExploriPy) (0.11.0)\n",
      "Requirement already satisfied: pandas in c:\\users\\tomfe\\anaconda3\\lib\\site-packages (from ExploriPy) (1.0.4)\n",
      "Requirement already satisfied: seaborn in c:\\users\\tomfe\\anaconda3\\lib\\site-packages (from ExploriPy) (0.10.0)\n",
      "Requirement already satisfied: tqdm in c:\\users\\tomfe\\anaconda3\\lib\\site-packages (from ExploriPy) (4.46.1)\n",
      "Requirement already satisfied: numpy in c:\\users\\tomfe\\anaconda3\\lib\\site-packages (from ExploriPy) (1.18.1)\n",
      "Requirement already satisfied: matplotlib in c:\\users\\tomfe\\anaconda3\\lib\\site-packages (from ExploriPy) (3.2.1)\n",
      "Requirement already satisfied: Jinja2 in c:\\users\\tomfe\\anaconda3\\lib\\site-packages (from ExploriPy) (2.11.1)\n",
      "Requirement already satisfied: scikit-learn in c:\\users\\tomfe\\anaconda3\\lib\\site-packages (from sklearn->ExploriPy) (0.22.1)\n",
      "Requirement already satisfied: patsy>=0.5 in c:\\users\\tomfe\\anaconda3\\lib\\site-packages (from statsmodels->ExploriPy) (0.5.1)\n",
      "Requirement already satisfied: pytz>=2017.2 in c:\\users\\tomfe\\anaconda3\\lib\\site-packages (from pandas->ExploriPy) (2019.3)\n",
      "Requirement already satisfied: python-dateutil>=2.6.1 in c:\\users\\tomfe\\anaconda3\\lib\\site-packages (from pandas->ExploriPy) (2.8.1)\n",
      "Requirement already satisfied: kiwisolver>=1.0.1 in c:\\users\\tomfe\\anaconda3\\lib\\site-packages (from matplotlib->ExploriPy) (1.1.0)\n",
      "Requirement already satisfied: pyparsing!=2.0.4,!=2.1.2,!=2.1.6,>=2.0.1 in c:\\users\\tomfe\\anaconda3\\lib\\site-packages (from matplotlib->ExploriPy) (2.4.6)\n",
      "Requirement already satisfied: cycler>=0.10 in c:\\users\\tomfe\\anaconda3\\lib\\site-packages (from matplotlib->ExploriPy) (0.10.0)\n",
      "Requirement already satisfied: MarkupSafe>=0.23 in c:\\users\\tomfe\\anaconda3\\lib\\site-packages (from Jinja2->ExploriPy) (1.1.1)\n",
      "Requirement already satisfied: joblib>=0.11 in c:\\users\\tomfe\\anaconda3\\lib\\site-packages (from scikit-learn->sklearn->ExploriPy) (0.14.1)\n",
      "Requirement already satisfied: six in c:\\users\\tomfe\\anaconda3\\lib\\site-packages (from patsy>=0.5->statsmodels->ExploriPy) (1.14.0)\n",
      "Requirement already satisfied: setuptools in c:\\users\\tomfe\\anaconda3\\lib\\site-packages (from kiwisolver>=1.0.1->matplotlib->ExploriPy) (45.2.0.post20200210)\n"
     ]
    }
   ],
   "source": [
    "import pandas as pd\n",
    "!pip install ExploriPy"
   ]
  },
  {
   "cell_type": "code",
   "execution_count": 2,
   "metadata": {},
   "outputs": [],
   "source": [
    "from ExploriPy import EDA"
   ]
  },
  {
   "cell_type": "code",
   "execution_count": 3,
   "metadata": {},
   "outputs": [],
   "source": [
    "df = pd.read_csv('titanic_dataset.csv',na_values = '?')"
   ]
  },
  {
   "cell_type": "code",
   "execution_count": 4,
   "metadata": {},
   "outputs": [
    {
     "name": "stderr",
     "output_type": "stream",
     "text": [
      "100%|██████████| 6/6 [00:00<?, ?it/s]"
     ]
    },
    {
     "name": "stdout",
     "output_type": "stream",
     "text": [
      "Converting Categorical Features to String...\n"
     ]
    },
    {
     "name": "stderr",
     "output_type": "stream",
     "text": [
      "\n"
     ]
    }
   ],
   "source": [
    "#CategoricalFeatures = ['Item_Identifier','Outlet_Identifier','Item_Fat_Content','Item_Type','Outlet_Establishment_Year','Outlet_Size','Outlet_Location_Type','Outlet_Type']\n",
    "eda = EDA(df,title='Exploratory Data Analysis for Big Mart Sales III - Based on Item_Outlet_Sales')\n",
    "#eda.TargetAnalysis('Item_Outlet_Sales') # For Target Specific Analysis"
   ]
  },
  {
   "cell_type": "code",
   "execution_count": 5,
   "metadata": {},
   "outputs": [
    {
     "data": {
      "text/plain": [
       "<ExploriPy.EDA.EDA at 0x1e5c3c46348>"
      ]
     },
     "execution_count": 5,
     "metadata": {},
     "output_type": "execute_result"
    }
   ],
   "source": [
    "eda"
   ]
  },
  {
   "cell_type": "code",
   "execution_count": 6,
   "metadata": {},
   "outputs": [
    {
     "name": "stderr",
     "output_type": "stream",
     "text": [
      "100%|██████████| 6/6 [00:00<00:00, 601.62it/s]\n",
      " 83%|████████▎ | 5/6 [00:00<00:00, 46.85it/s]"
     ]
    },
    {
     "name": "stdout",
     "output_type": "stream",
     "text": [
      "Initiating Target Specific Analysis...\n",
      "Generating Correlation Heatmap...\n",
      "Calculating Target Percentage...\n",
      "Performing ChiSquare Test of Independence...\n",
      "Calculate the Target Distributions...\n"
     ]
    },
    {
     "name": "stderr",
     "output_type": "stream",
     "text": [
      "100%|██████████| 6/6 [00:00<00:00, 44.90it/s]\n",
      " 67%|██████▋   | 2/3 [00:00<00:00, 11.63it/s]"
     ]
    },
    {
     "name": "stdout",
     "output_type": "stream",
     "text": [
      "Generating Distribution Charts...\n",
      "\n",
      "NaN result encountered.\n",
      "\n",
      "NaN result encountered.\n"
     ]
    },
    {
     "name": "stderr",
     "output_type": "stream",
     "text": [
      "100%|██████████| 3/3 [00:00<00:00, 10.47it/s]\n"
     ]
    },
    {
     "name": "stdout",
     "output_type": "stream",
     "text": [
      "\n",
      "NaN result encountered.\n"
     ]
    },
    {
     "data": {
      "image/png": "[encoded data removed]",
      "text/plain": [
       "<Figure size 432x288 with 1 Axes>"
      ]
     },
     "metadata": {
      "needs_background": "light"
     },
     "output_type": "display_data"
    },
    {
     "data": {
      "image/png": "[encoded data removed]",
      "text/plain": [
       "<Figure size 432x288 with 1 Axes>"
      ]
     },
     "metadata": {
      "needs_background": "light"
     },
     "output_type": "display_data"
    },
    {
     "data": {
      "image/png": "[encoded data removed]",
      "text/plain": [
       "<Figure size 432x288 with 1 Axes>"
      ]
     },
     "metadata": {
      "needs_background": "light"
     },
     "output_type": "display_data"
    }
   ],
   "source": [
    "eda.TargetAnalysis('survived')"
   ]
  },
  {
   "cell_type": "code",
   "execution_count": null,
   "metadata": {},
   "outputs": [],
   "source": []
  }
 ],
 "metadata": {
  "kernelspec": {
   "display_name": "Python 3",
   "language": "python",
   "name": "python3"
  },
  "language_info": {
   "codemirror_mode": {
    "name": "ipython",
    "version": 3
   },
   "file_extension": ".py",
   "mimetype": "text/x-python",
   "name": "python",
   "nbconvert_exporter": "python",
   "pygments_lexer": "ipython3",
   "version": "3.7.6"
  }
 },
 "nbformat": 4,
 "nbformat_minor": 4
}
